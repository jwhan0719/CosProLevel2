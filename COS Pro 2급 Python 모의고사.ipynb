{
 "cells": [
  {
   "cell_type": "markdown",
   "id": "1d3784c2",
   "metadata": {},
   "source": [
    "# COS Pro 2급 Python 모의고사\n",
    "주소 : https://programmers.co.kr/learn/courses/33"
   ]
  },
  {
   "cell_type": "markdown",
   "id": "6b86277e",
   "metadata": {},
   "source": [
    "## Part1. 빈칸 채우기\n",
    "### 1. n부터 m까지 자연수의 합\n",
    "\n",
    "- 두 자연수 n부터 m까지의 합을 구하려고 합니다. 이를 위해 다음과 같이 3단계로 간단히 프로그램 구조를 작성했습니다.  \n",
    "1. 1부터 m까지의 합을 구합니다.\n",
    "2. 1부터 n-1까지의 합을 구합니다.\n",
    "3. 1번 단계에서 구한 값에서 2번 단계에서 구한 값을 뺍니다."
   ]
  },
  {
   "cell_type": "code",
   "execution_count": 1,
   "id": "cd599998",
   "metadata": {},
   "outputs": [
    {
     "name": "stdout",
     "output_type": "stream",
     "text": [
      "45\n",
      "6\n"
     ]
    }
   ],
   "source": [
    "def func_a(k):\n",
    "    sum = 0\n",
    "    for i in range(k+1):\n",
    "        sum += i\n",
    "\n",
    "    return sum\n",
    "\n",
    "def solution(n, m):\n",
    "    sum_to_m = func_a(m)\n",
    "    sum_to_n = func_a(n-1)\n",
    "    answer = sum_to_m - sum_to_n\n",
    "    return answer\n",
    "\n",
    "print(solution(5, 10))\n",
    "print(solution(6, 6))"
   ]
  },
  {
   "cell_type": "markdown",
   "id": "f506506b",
   "metadata": {},
   "source": [
    "### 2. 총점\n",
    "- 한 학생의 과목별 점수가 들어있는 배열이 주어졌을 때, 이 학생의 최고 점수와 최저 점수를 제외한 나머지 점수들의 합계를 구하려 합니다. 이를 위해 다음과 같이 4단계로 프로그램 구조를 작성했습니다.  \n",
    "1. 모든 과목 점수의 합을 구합니다.\n",
    "2. 최고 점수를 구합니다.\n",
    "3. 최저 점수를 구합니다.\n",
    "4. (모든 과목 점수의 합) - (최고 점수) - (최저 점수)의 값을 return 합니다."
   ]
  },
  {
   "cell_type": "code",
   "execution_count": 2,
   "id": "f83b1f7d",
   "metadata": {},
   "outputs": [
    {
     "name": "stdout",
     "output_type": "stream",
     "text": [
      "213\n"
     ]
    }
   ],
   "source": [
    "def func_a(s):\n",
    "    ret = 0\n",
    "    for i in s:\n",
    "        if i > ret:\n",
    "            ret = i\n",
    "    return ret\n",
    "\n",
    "def func_b(s):\n",
    "    ret = 0\n",
    "    for i in s:\n",
    "        ret += i\n",
    "    return ret\n",
    "\n",
    "def func_c(s):\n",
    "    ret = 101\n",
    "    for i in s:\n",
    "        if i < ret:\n",
    "            ret = i\n",
    "    return ret\n",
    "\n",
    "def solution(scores):\n",
    "    sum = func_b(scores)\n",
    "    max_score = func_a(scores)\n",
    "    min_score = func_c(scores)\n",
    "    return sum - max_score - min_score\n",
    "\n",
    "scores = [50, 35, 78, 91, 85]\n",
    "print(solution(scores))"
   ]
  },
  {
   "cell_type": "markdown",
   "id": "a562a717",
   "metadata": {},
   "source": [
    "### 3. 공항 방문객\n",
    "- XX 공항에서 N 일 동안 매일 공항 방문객 수를 조사했습니다. 이때, 가장 많은 방문객 수와 두 번째로 많은 방문객 수의 차이를 구하려고 합니다. 단, 방문객의 수가 같은 날은 없다고 가정합니다. 이를 위해 다음과 같이 4단계로 간단히 프로그램 구조를 작성했습니다.  \n",
    "1. 입력으로 주어진 배열에서 가장 많은 방문객 수를 찾습니다.\n",
    "2. 1번 단계에서 찾은 값을 제외하고, 나머지 값들로 이루어진 새로운 배열을 만듭니다.\n",
    "3. 2번 단계에서 만든 새로운 배열에서 가장 큰 방문객의 수를 찾습니다.\n",
    "4. 1번 단계와 3번 단계에서 구한 값의 차이를 구합니다."
   ]
  },
  {
   "cell_type": "code",
   "execution_count": 3,
   "id": "d3b5ce8a",
   "metadata": {},
   "outputs": [
    {
     "name": "stdout",
     "output_type": "stream",
     "text": [
      "2\n"
     ]
    }
   ],
   "source": [
    "def func_a(arr, n):\n",
    "    ret = []\n",
    "    for x in arr:\n",
    "        if x != n:\n",
    "            ret.append(x)\n",
    "    return ret\n",
    "\n",
    "def func_b(a, b):\n",
    "    if a >= b:\n",
    "        return a - b\n",
    "    else:\n",
    "        return b - a\n",
    "\n",
    "def func_c(arr):\n",
    "    ret = -1\n",
    "    for x in arr:\n",
    "        if ret < x:\n",
    "            ret = x\n",
    "    return ret\n",
    "\n",
    "def solution(visitor):\n",
    "    max_first = func_c(visitor)\n",
    "    visitor_removed = func_a(visitor, max_first)\n",
    "    max_second = func_c(visitor_removed)\n",
    "    answer = func_b(max_first, max_second)\n",
    "    return answer\n",
    "\n",
    "visitor = [4,7,2,9,3]\n",
    "print(solution(visitor))"
   ]
  },
  {
   "cell_type": "markdown",
   "id": "043d3987",
   "metadata": {},
   "source": [
    "### 4. 학점 계산\n",
    "- XX 학교에서는 다음과 같이 학생들의 점수에 따라 학점을 부여합니다.\n",
    "1. 85점 ~ 100점 : A 학점\n",
    "2. 70점 ~ 84점 : B 학점\n",
    "3. 55점 ~ 69점 : C 학점\n",
    "4. 40점 ~ 54점 : D 학점\n",
    "5. 0점 ~ 39점 : F 학점"
   ]
  },
  {
   "cell_type": "code",
   "execution_count": 4,
   "id": "a24f7304",
   "metadata": {},
   "outputs": [
    {
     "name": "stdout",
     "output_type": "stream",
     "text": [
      "[2, 1, 1, 1, 0]\n"
     ]
    }
   ],
   "source": [
    "def solution(scores):\n",
    "    grade_counter = [0 for i in range(5)]\n",
    "    for x in scores:\n",
    "        if x >= 85:\n",
    "            grade_counter[0] += 1\n",
    "        elif x >= 70:\n",
    "            grade_counter[1] += 1\n",
    "        elif x >= 55:\n",
    "            grade_counter[2] += 1\n",
    "        elif x >= 40:\n",
    "            grade_counter[3] += 1\n",
    "        else:\n",
    "            grade_counter[4] += 1\n",
    "    return grade_counter\n",
    "\n",
    "scores = [86,72,98,60,45]\n",
    "print(solution(scores))"
   ]
  },
  {
   "cell_type": "markdown",
   "id": "090b074b",
   "metadata": {},
   "source": [
    "### 5. 개구리\n",
    "- 개구리가 일정한 간격으로 일렬로 놓여있는 징검다리를 건너려고 합니다. 징검다리에는 자연수가 적혀있으며, 개구리는 자신이 밟고 있는 징검다리에 적혀있는 숫자만큼 앞쪽으로 점프해야 합니다. 개구리는 현재 첫 번째 징검다리 위에 앉아있습니다."
   ]
  },
  {
   "cell_type": "code",
   "execution_count": 5,
   "id": "dda2c3db",
   "metadata": {},
   "outputs": [
    {
     "data": {
      "text/plain": [
       "3"
      ]
     },
     "execution_count": 5,
     "metadata": {},
     "output_type": "execute_result"
    }
   ],
   "source": [
    "def solution(stones):\n",
    "    cnt = 0\n",
    "    current = 0\n",
    "    n = len(stones)\n",
    "    while current<n:\n",
    "        current += stones[current]\n",
    "        cnt += 1\n",
    "    return cnt\n",
    "\n",
    "stones = [2,5,1,3,2,1]\n",
    "solution(stones)"
   ]
  },
  {
   "cell_type": "markdown",
   "id": "8c6d6bb1",
   "metadata": {},
   "source": [
    "## Part2. 한 줄 바꾸기\n",
    "### 1. 키가 K보다 큰사람\n",
    "\n",
    "- 학생들의 키가 들어있는 목록에서 키가 k보다 큰 사람은 몇 명인지 구하려합니다. "
   ]
  },
  {
   "cell_type": "code",
   "execution_count": 6,
   "id": "0f96ac77",
   "metadata": {},
   "outputs": [
    {
     "data": {
      "text/plain": [
       "2"
      ]
     },
     "execution_count": 6,
     "metadata": {},
     "output_type": "execute_result"
    }
   ],
   "source": [
    "def solution(height, k):\n",
    "    answer = 0\n",
    "    n = len(height)\n",
    "    for h in height:\n",
    "        if h > k: # h>=k -> h>k\n",
    "            answer += 1\n",
    "    return answer\n",
    "\n",
    "height = [165, 170, 175, 180, 184]\n",
    "\n",
    "solution(height, 175)"
   ]
  },
  {
   "cell_type": "markdown",
   "id": "41b79057",
   "metadata": {},
   "source": [
    "### 2. 알파벳 바꾸기\n",
    "- 문자열이 주어졌을 때, 문자열에서 'a'는 'z'로, 'z'는 'a'로 바꾸려고 합니다. 예를 들어 주어진 문자열이 \"abz\"라면 \"zba\"라는 문자열을 만들면 됩니다."
   ]
  },
  {
   "cell_type": "code",
   "execution_count": 7,
   "id": "506084fc",
   "metadata": {},
   "outputs": [
    {
     "data": {
      "text/plain": [
       "'zba'"
      ]
     },
     "execution_count": 7,
     "metadata": {},
     "output_type": "execute_result"
    }
   ],
   "source": [
    "def solution(s):\n",
    "    s_lst = list(s)\n",
    "    n = len(s)\n",
    "    for i in range(n):\n",
    "        if s_lst[i] == 'a':\n",
    "            s_lst[i] = 'z'\n",
    "        elif s_lst[i] == 'z':\n",
    "            s_lst[i] =  'a'\n",
    "    return \"\".join(s_lst)\n",
    "\n",
    "s = \"abz\"\n",
    "solution(s)"
   ]
  },
  {
   "cell_type": "markdown",
   "id": "cf58a185",
   "metadata": {},
   "source": [
    "### 3. 이름에 \"j\" 또는 \"k\"가 들어가는 사람\n",
    "- 학생들의 이름이 들어있는 명단에서 이름에 j 또는 k가 들어가는 학생의 수를 구하려고 합니다. 예를 들어 \"james\"에는 j가 들어가 있으며, \"jack\"에는 j와 k가 모두 들어있습니다."
   ]
  },
  {
   "cell_type": "code",
   "execution_count": 8,
   "id": "2d9fa47e",
   "metadata": {},
   "outputs": [
    {
     "data": {
      "text/plain": [
       "3"
      ]
     },
     "execution_count": 8,
     "metadata": {},
     "output_type": "execute_result"
    }
   ],
   "source": [
    "def solution(name_list):\n",
    "    answer = 0\n",
    "    for name in name_list:\n",
    "        for n in name:\n",
    "            if n == 'j' or n == 'k':\n",
    "                answer += 1\n",
    "                break\n",
    "    return answer\n",
    "\n",
    "name_list = [\"james\", \"luke\", \"oliver\", \"jack\"]\n",
    "solution(name_list)"
   ]
  },
  {
   "cell_type": "markdown",
   "id": "afcdeee7",
   "metadata": {},
   "source": [
    "## Part3. 함수 작성\n",
    "### 1. 거스름돈\n",
    "\n",
    "- 고객이 구매한 물건들의 가격과 지불 금액이 주어졌을 때, 거스름돈을 얼마나 줘야 하는지 구하려 합니다.\n",
    "- 예를 들어 구매한 물건들의 가격이 [2100, 3200, 2100, 800]이라면 총 구매금액은 8200원입니다. 이때, 고객이 10000원을 지불했다면 1800원을 거슬러 주면 됩니다.\n",
    "- 고객이 구매한 물품들의 가격이 들어있는 배열 price와 지불한 금액 money가 매개변수로 주어질 때, 거슬러 줘야 하는 금액을 return 하도록 solution 함수를 완성해주세요."
   ]
  },
  {
   "cell_type": "code",
   "execution_count": 9,
   "id": "ff3a7fea",
   "metadata": {},
   "outputs": [
    {
     "data": {
      "text/plain": [
       "1800"
      ]
     },
     "execution_count": 9,
     "metadata": {},
     "output_type": "execute_result"
    }
   ],
   "source": [
    "def solution(price, money):\n",
    "    answer = 0\n",
    "    \n",
    "    if sum(price) > money:\n",
    "        answer = -1\n",
    "    else:\n",
    "        answer = money - sum(price)\n",
    "        \n",
    "    return answer\n",
    "\n",
    "price = [2100, 3200, 2100, 800]\n",
    "money = 10000\n",
    "\n",
    "solution(price, money)"
   ]
  },
  {
   "cell_type": "markdown",
   "id": "020b5bbc",
   "metadata": {},
   "source": [
    "### 2. k번째로 작은 수\n",
    "- 자연수가 담겨있는 n x 4 크기의 2차원 배열에서 k번째로 작은 수를 찾으려 합니다. 이때, n은 배열의 세로길이, 4는 배열의 가로길이입니다. 예를 들어 다음은 자연수가 담겨있는 4 x 4 크기의 2차원 배열입니다."
   ]
  },
  {
   "cell_type": "code",
   "execution_count": 10,
   "id": "e8e678a3",
   "metadata": {},
   "outputs": [
    {
     "data": {
      "text/plain": [
       "11"
      ]
     },
     "execution_count": 10,
     "metadata": {},
     "output_type": "execute_result"
    }
   ],
   "source": [
    "def solution(arr, k):\n",
    "    answer = 0\n",
    "    list = []\n",
    "    \n",
    "    for i in arr:\n",
    "        for j in i:\n",
    "            list.append(j)\n",
    "            \n",
    "    list.sort()\n",
    "    answer = list[k-1]\n",
    "    \n",
    "    return answer\n",
    "\n",
    "arr = [[5,12,4,31],[24,13,11,2],[43,44,19,26],[33,65,20,21]]\n",
    "k = 4\n",
    "\n",
    "solution(arr, k)"
   ]
  }
 ],
 "metadata": {
  "kernelspec": {
   "display_name": "Python 3 (ipykernel)",
   "language": "python",
   "name": "python3"
  },
  "language_info": {
   "codemirror_mode": {
    "name": "ipython",
    "version": 3
   },
   "file_extension": ".py",
   "mimetype": "text/x-python",
   "name": "python",
   "nbconvert_exporter": "python",
   "pygments_lexer": "ipython3",
   "version": "3.9.7"
  }
 },
 "nbformat": 4,
 "nbformat_minor": 5
}
